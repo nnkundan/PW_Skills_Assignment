{
 "cells": [
  {
   "cell_type": "markdown",
   "id": "277c9aa9",
   "metadata": {},
   "source": [
    "# Calculate the sum, difference, product, and quotient of two numbers"
   ]
  },
  {
   "cell_type": "code",
   "execution_count": 2,
   "id": "fd0314d9",
   "metadata": {},
   "outputs": [],
   "source": [
    "a= 7\n",
    "b=2"
   ]
  },
  {
   "cell_type": "code",
   "execution_count": 7,
   "id": "afdac765",
   "metadata": {},
   "outputs": [
    {
     "data": {
      "text/plain": [
       "9"
      ]
     },
     "execution_count": 7,
     "metadata": {},
     "output_type": "execute_result"
    }
   ],
   "source": [
    "sum1=a+b\n",
    "sum1"
   ]
  },
  {
   "cell_type": "code",
   "execution_count": 8,
   "id": "17080a24",
   "metadata": {},
   "outputs": [
    {
     "data": {
      "text/plain": [
       "5"
      ]
     },
     "execution_count": 8,
     "metadata": {},
     "output_type": "execute_result"
    }
   ],
   "source": [
    "difference = a-b\n",
    "difference"
   ]
  },
  {
   "cell_type": "code",
   "execution_count": 9,
   "id": "e3dcd9b3",
   "metadata": {},
   "outputs": [
    {
     "data": {
      "text/plain": [
       "14"
      ]
     },
     "execution_count": 9,
     "metadata": {},
     "output_type": "execute_result"
    }
   ],
   "source": [
    "Product = a*b\n",
    "Product"
   ]
  },
  {
   "cell_type": "code",
   "execution_count": 13,
   "id": "068eab08",
   "metadata": {},
   "outputs": [
    {
     "data": {
      "text/plain": [
       "3"
      ]
     },
     "execution_count": 13,
     "metadata": {},
     "output_type": "execute_result"
    }
   ],
   "source": [
    "quotient=a//b\n",
    "quotient"
   ]
  },
  {
   "cell_type": "markdown",
   "id": "3cb3f02d",
   "metadata": {},
   "source": [
    "# Perform various assignment operations on a variable"
   ]
  },
  {
   "cell_type": "code",
   "execution_count": 27,
   "id": "2e60112e",
   "metadata": {},
   "outputs": [],
   "source": [
    "x=50\n",
    "y=20"
   ]
  },
  {
   "cell_type": "code",
   "execution_count": 25,
   "id": "bc542fad",
   "metadata": {},
   "outputs": [
    {
     "data": {
      "text/plain": [
       "70"
      ]
     },
     "execution_count": 25,
     "metadata": {},
     "output_type": "execute_result"
    }
   ],
   "source": [
    "#assignment operator\n",
    "z=x+y\n",
    "z"
   ]
  },
  {
   "cell_type": "code",
   "execution_count": 26,
   "id": "a931dea9",
   "metadata": {},
   "outputs": [
    {
     "data": {
      "text/plain": [
       "70"
      ]
     },
     "execution_count": 26,
     "metadata": {},
     "output_type": "execute_result"
    }
   ],
   "source": [
    "#add and assign\n",
    "x+=y\n",
    "x"
   ]
  },
  {
   "cell_type": "code",
   "execution_count": 29,
   "id": "398bafbd",
   "metadata": {},
   "outputs": [
    {
     "data": {
      "text/plain": [
       "30"
      ]
     },
     "execution_count": 29,
     "metadata": {},
     "output_type": "execute_result"
    }
   ],
   "source": [
    "#subtract and assign\n",
    "x=50\n",
    "y=20\n",
    "x-=y\n",
    "x"
   ]
  },
  {
   "cell_type": "code",
   "execution_count": 30,
   "id": "0e5c3fa1",
   "metadata": {},
   "outputs": [
    {
     "data": {
      "text/plain": [
       "1000"
      ]
     },
     "execution_count": 30,
     "metadata": {},
     "output_type": "execute_result"
    }
   ],
   "source": [
    "# multiply and assign\n",
    "x=50\n",
    "y=20\n",
    "x*=y\n",
    "x"
   ]
  },
  {
   "cell_type": "code",
   "execution_count": 31,
   "id": "b5255d90",
   "metadata": {},
   "outputs": [
    {
     "data": {
      "text/plain": [
       "2.5"
      ]
     },
     "execution_count": 31,
     "metadata": {},
     "output_type": "execute_result"
    }
   ],
   "source": [
    "# divide and assign\n",
    "x=50\n",
    "y=20\n",
    "x/=y\n",
    "x"
   ]
  },
  {
   "cell_type": "code",
   "execution_count": 32,
   "id": "f7c9ea4f",
   "metadata": {},
   "outputs": [
    {
     "data": {
      "text/plain": [
       "10"
      ]
     },
     "execution_count": 32,
     "metadata": {},
     "output_type": "execute_result"
    }
   ],
   "source": [
    "# modulus and assign\n",
    "x=50\n",
    "y=20\n",
    "x%=y\n",
    "x"
   ]
  },
  {
   "cell_type": "code",
   "execution_count": 33,
   "id": "adfd8254",
   "metadata": {},
   "outputs": [
    {
     "data": {
      "text/plain": [
       "2"
      ]
     },
     "execution_count": 33,
     "metadata": {},
     "output_type": "execute_result"
    }
   ],
   "source": [
    "# divide(floor) and assign\n",
    "x=50\n",
    "y=20\n",
    "x//=y\n",
    "x"
   ]
  },
  {
   "cell_type": "code",
   "execution_count": 35,
   "id": "a8c48dc4",
   "metadata": {},
   "outputs": [
    {
     "data": {
      "text/plain": [
       "9"
      ]
     },
     "execution_count": 35,
     "metadata": {},
     "output_type": "execute_result"
    }
   ],
   "source": [
    "# exponent and assign\n",
    "x=3\n",
    "y=2\n",
    "x**=y\n",
    "x"
   ]
  },
  {
   "cell_type": "code",
   "execution_count": 36,
   "id": "59bf9a45",
   "metadata": {},
   "outputs": [
    {
     "data": {
      "text/plain": [
       "2"
      ]
     },
     "execution_count": 36,
     "metadata": {},
     "output_type": "execute_result"
    }
   ],
   "source": [
    "# Bitwise AND  and assign\n",
    "x=3\n",
    "y=2\n",
    "x&=y\n",
    "x"
   ]
  },
  {
   "cell_type": "code",
   "execution_count": 37,
   "id": "0be89f5c",
   "metadata": {},
   "outputs": [
    {
     "data": {
      "text/plain": [
       "3"
      ]
     },
     "execution_count": 37,
     "metadata": {},
     "output_type": "execute_result"
    }
   ],
   "source": [
    "# Bitwise OR  and assign\n",
    "x=3\n",
    "y=2\n",
    "x|=y\n",
    "x"
   ]
  },
  {
   "cell_type": "code",
   "execution_count": 38,
   "id": "3f48f6bc",
   "metadata": {},
   "outputs": [
    {
     "data": {
      "text/plain": [
       "1"
      ]
     },
     "execution_count": 38,
     "metadata": {},
     "output_type": "execute_result"
    }
   ],
   "source": [
    "# Bitwise XOR  and assign\n",
    "x=3\n",
    "y=2\n",
    "x^=y\n",
    "x"
   ]
  },
  {
   "cell_type": "code",
   "execution_count": 39,
   "id": "eb165a2d",
   "metadata": {},
   "outputs": [
    {
     "data": {
      "text/plain": [
       "0"
      ]
     },
     "execution_count": 39,
     "metadata": {},
     "output_type": "execute_result"
    }
   ],
   "source": [
    "# Bitwise right shift  and assign\n",
    "x=3\n",
    "y=2\n",
    "x>>=y\n",
    "x"
   ]
  },
  {
   "cell_type": "code",
   "execution_count": 41,
   "id": "563ffc82",
   "metadata": {},
   "outputs": [
    {
     "data": {
      "text/plain": [
       "12"
      ]
     },
     "execution_count": 41,
     "metadata": {},
     "output_type": "execute_result"
    }
   ],
   "source": [
    "# Bitwise left shift  and assign\n",
    "x=3\n",
    "y=2\n",
    "x<<=y\n",
    "x"
   ]
  },
  {
   "cell_type": "markdown",
   "id": "1f5acaf1",
   "metadata": {},
   "source": [
    "# Compare two numbers and print the results"
   ]
  },
  {
   "cell_type": "code",
   "execution_count": 49,
   "id": "77e06d3e",
   "metadata": {},
   "outputs": [
    {
     "name": "stdout",
     "output_type": "stream",
     "text": [
      "Numbers are not equal\n"
     ]
    }
   ],
   "source": [
    "if 5 == 2:\n",
    "    print(\"Numbers are equal\")\n",
    "else:\n",
    "    print(\"Numbers are not equal\")"
   ]
  },
  {
   "cell_type": "markdown",
   "id": "4665c69a",
   "metadata": {},
   "source": [
    "# Check conditions using logical operators"
   ]
  },
  {
   "cell_type": "code",
   "execution_count": 51,
   "id": "e536d61c",
   "metadata": {},
   "outputs": [
    {
     "name": "stdout",
     "output_type": "stream",
     "text": [
      "greater and positive\n"
     ]
    }
   ],
   "source": [
    "x=10\n",
    "y=5\n",
    "if x > 0 and x>y:\n",
    "    print(\"greater and positive\")\n",
    "else:\n",
    "    print(\"smaller or negative\")"
   ]
  },
  {
   "cell_type": "markdown",
   "id": "609b5731",
   "metadata": {},
   "source": [
    "# Check the identity of variables"
   ]
  },
  {
   "cell_type": "code",
   "execution_count": 58,
   "id": "10d62402",
   "metadata": {},
   "outputs": [
    {
     "data": {
      "text/plain": [
       "True"
      ]
     },
     "execution_count": 58,
     "metadata": {},
     "output_type": "execute_result"
    }
   ],
   "source": [
    "a = \"car\"\n",
    "b = \"bus\"\n",
    "a is not b"
   ]
  },
  {
   "cell_type": "markdown",
   "id": "a4dbd865",
   "metadata": {},
   "source": [
    "# Perform bitwise operations on any two integers"
   ]
  },
  {
   "cell_type": "code",
   "execution_count": 64,
   "id": "033e5b18",
   "metadata": {},
   "outputs": [
    {
     "data": {
      "text/plain": [
       "7"
      ]
     },
     "execution_count": 64,
     "metadata": {},
     "output_type": "execute_result"
    }
   ],
   "source": [
    "5 | 3"
   ]
  },
  {
   "cell_type": "markdown",
   "id": "f99df5d3",
   "metadata": {},
   "source": [
    "# Use unary operators to change the sign of a number"
   ]
  },
  {
   "cell_type": "code",
   "execution_count": 66,
   "id": "ce51f3d7",
   "metadata": {},
   "outputs": [
    {
     "data": {
      "text/plain": [
       "-4"
      ]
     },
     "execution_count": 66,
     "metadata": {},
     "output_type": "execute_result"
    }
   ],
   "source": [
    "x1=4\n",
    "y1=-(x1)\n",
    "y1"
   ]
  },
  {
   "cell_type": "markdown",
   "id": "924ddc0e",
   "metadata": {},
   "source": [
    "# Use the ternary operator to assign values based on conditions"
   ]
  },
  {
   "cell_type": "code",
   "execution_count": 67,
   "id": "92f54622",
   "metadata": {},
   "outputs": [
    {
     "name": "stdout",
     "output_type": "stream",
     "text": [
      "20\n"
     ]
    }
   ],
   "source": [
    "x = 10\n",
    "y = 20\n",
    "\n",
    "max_value = x if x > y else y\n",
    "print(max_value)  # Output will be 20 since y is greater than x\n"
   ]
  },
  {
   "cell_type": "code",
   "execution_count": null,
   "id": "c5753562",
   "metadata": {},
   "outputs": [],
   "source": []
  }
 ],
 "metadata": {
  "kernelspec": {
   "display_name": "Python 3 (ipykernel)",
   "language": "python",
   "name": "python3"
  },
  "language_info": {
   "codemirror_mode": {
    "name": "ipython",
    "version": 3
   },
   "file_extension": ".py",
   "mimetype": "text/x-python",
   "name": "python",
   "nbconvert_exporter": "python",
   "pygments_lexer": "ipython3",
   "version": "3.9.13"
  }
 },
 "nbformat": 4,
 "nbformat_minor": 5
}
