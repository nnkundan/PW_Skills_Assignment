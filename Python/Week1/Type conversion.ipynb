{
 "cells": [
  {
   "cell_type": "markdown",
   "id": "daf9b120",
   "metadata": {},
   "source": [
    "# Convert a integer to a floatig-point number"
   ]
  },
  {
   "cell_type": "code",
   "execution_count": 9,
   "id": "1a3b82d7",
   "metadata": {},
   "outputs": [
    {
     "data": {
      "text/plain": [
       "int"
      ]
     },
     "execution_count": 9,
     "metadata": {},
     "output_type": "execute_result"
    }
   ],
   "source": [
    "a=2\n",
    "type(a)"
   ]
  },
  {
   "cell_type": "code",
   "execution_count": 10,
   "id": "04948212",
   "metadata": {},
   "outputs": [
    {
     "data": {
      "text/plain": [
       "float"
      ]
     },
     "execution_count": 10,
     "metadata": {},
     "output_type": "execute_result"
    }
   ],
   "source": [
    "f=float(a)\n",
    "type(f)"
   ]
  },
  {
   "cell_type": "markdown",
   "id": "c0596706",
   "metadata": {},
   "source": [
    "# Convert a float to a integer"
   ]
  },
  {
   "cell_type": "code",
   "execution_count": 11,
   "id": "7a33345e",
   "metadata": {},
   "outputs": [
    {
     "data": {
      "text/plain": [
       "float"
      ]
     },
     "execution_count": 11,
     "metadata": {},
     "output_type": "execute_result"
    }
   ],
   "source": [
    "b = 22.9\n",
    "type(b)"
   ]
  },
  {
   "cell_type": "code",
   "execution_count": 14,
   "id": "cf9351ce",
   "metadata": {},
   "outputs": [
    {
     "data": {
      "text/plain": [
       "int"
      ]
     },
     "execution_count": 14,
     "metadata": {},
     "output_type": "execute_result"
    }
   ],
   "source": [
    "c=int(b)\n",
    "type(b)"
   ]
  },
  {
   "cell_type": "markdown",
   "id": "370455c0",
   "metadata": {},
   "source": [
    "# Convert a integer to a string"
   ]
  },
  {
   "cell_type": "code",
   "execution_count": 20,
   "id": "2cc3c734",
   "metadata": {},
   "outputs": [
    {
     "data": {
      "text/plain": [
       "int"
      ]
     },
     "execution_count": 20,
     "metadata": {},
     "output_type": "execute_result"
    }
   ],
   "source": [
    "x = 4\n",
    "type(x)"
   ]
  },
  {
   "cell_type": "code",
   "execution_count": 21,
   "id": "1aac4249",
   "metadata": {},
   "outputs": [
    {
     "data": {
      "text/plain": [
       "str"
      ]
     },
     "execution_count": 21,
     "metadata": {},
     "output_type": "execute_result"
    }
   ],
   "source": [
    "s = str(x)\n",
    "type(s)"
   ]
  },
  {
   "cell_type": "markdown",
   "id": "d77e29a4",
   "metadata": {},
   "source": [
    "# Convert a list to a tuple"
   ]
  },
  {
   "cell_type": "code",
   "execution_count": 25,
   "id": "64982300",
   "metadata": {},
   "outputs": [
    {
     "data": {
      "text/plain": [
       "list"
      ]
     },
     "execution_count": 25,
     "metadata": {},
     "output_type": "execute_result"
    }
   ],
   "source": [
    "l1= [1,2,4,5,67,7]\n",
    "type(l1)"
   ]
  },
  {
   "cell_type": "code",
   "execution_count": 26,
   "id": "a41e0bee",
   "metadata": {},
   "outputs": [
    {
     "data": {
      "text/plain": [
       "tuple"
      ]
     },
     "execution_count": 26,
     "metadata": {},
     "output_type": "execute_result"
    }
   ],
   "source": [
    "t1=tuple(l1)\n",
    "type(t1)"
   ]
  },
  {
   "cell_type": "markdown",
   "id": "77753d42",
   "metadata": {},
   "source": [
    "# Convert a tuple to a list"
   ]
  },
  {
   "cell_type": "code",
   "execution_count": 34,
   "id": "fb2983ff",
   "metadata": {},
   "outputs": [
    {
     "data": {
      "text/plain": [
       "tuple"
      ]
     },
     "execution_count": 34,
     "metadata": {},
     "output_type": "execute_result"
    }
   ],
   "source": [
    "t2=(1,2,3,4,7)\n",
    "type(t2)"
   ]
  },
  {
   "cell_type": "code",
   "execution_count": 35,
   "id": "159aa846",
   "metadata": {},
   "outputs": [
    {
     "data": {
      "text/plain": [
       "list"
      ]
     },
     "execution_count": 35,
     "metadata": {},
     "output_type": "execute_result"
    }
   ],
   "source": [
    "l2=list(t2)\n",
    "type(l2)"
   ]
  },
  {
   "cell_type": "markdown",
   "id": "5f85d076",
   "metadata": {},
   "source": [
    "# Convert a decimal number to binary"
   ]
  },
  {
   "cell_type": "code",
   "execution_count": 41,
   "id": "a0f4cbfd",
   "metadata": {},
   "outputs": [
    {
     "name": "stdout",
     "output_type": "stream",
     "text": [
      "0b1010\n"
     ]
    }
   ],
   "source": [
    "d1= 10\n",
    "b1=bin(d1)\n",
    "print(b1)"
   ]
  },
  {
   "cell_type": "markdown",
   "id": "89eb1639",
   "metadata": {},
   "source": [
    "# Covert a non-zero number to boolean."
   ]
  },
  {
   "cell_type": "code",
   "execution_count": 48,
   "id": "5bc0b8b9",
   "metadata": {},
   "outputs": [
    {
     "data": {
      "text/plain": [
       "bool"
      ]
     },
     "execution_count": 48,
     "metadata": {},
     "output_type": "execute_result"
    }
   ],
   "source": [
    "nz=71\n",
    "b2=bool(nz)\n",
    "type(b2)"
   ]
  },
  {
   "cell_type": "code",
   "execution_count": 49,
   "id": "f09b9174",
   "metadata": {},
   "outputs": [
    {
     "name": "stdout",
     "output_type": "stream",
     "text": [
      "True\n"
     ]
    }
   ],
   "source": [
    "print(b2)"
   ]
  },
  {
   "cell_type": "code",
   "execution_count": null,
   "id": "f49d1343",
   "metadata": {},
   "outputs": [],
   "source": []
  }
 ],
 "metadata": {
  "kernelspec": {
   "display_name": "Python 3 (ipykernel)",
   "language": "python",
   "name": "python3"
  },
  "language_info": {
   "codemirror_mode": {
    "name": "ipython",
    "version": 3
   },
   "file_extension": ".py",
   "mimetype": "text/x-python",
   "name": "python",
   "nbconvert_exporter": "python",
   "pygments_lexer": "ipython3",
   "version": "3.9.13"
  }
 },
 "nbformat": 4,
 "nbformat_minor": 5
}
