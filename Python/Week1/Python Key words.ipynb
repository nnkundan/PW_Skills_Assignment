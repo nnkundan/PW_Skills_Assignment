{
 "cells": [
  {
   "cell_type": "markdown",
   "id": "32264af1",
   "metadata": {},
   "source": [
    "# 1. Explain the significance of Python keywords and provide examples of five keywords"
   ]
  },
  {
   "cell_type": "code",
   "execution_count": 14,
   "id": "6eb16f6f",
   "metadata": {},
   "outputs": [
    {
     "name": "stdout",
     "output_type": "stream",
     "text": [
      "\n",
      "Here is a list of the Python keywords.  Enter any keyword to get more help.\n",
      "\n",
      "False               break               for                 not\n",
      "None                class               from                or\n",
      "True                continue            global              pass\n",
      "__peg_parser__      def                 if                  raise\n",
      "and                 del                 import              return\n",
      "as                  elif                in                  try\n",
      "assert              else                is                  while\n",
      "async               except              lambda              with\n",
      "await               finally             nonlocal            yield\n",
      "\n"
     ]
    }
   ],
   "source": [
    "help('keywords')"
   ]
  },
  {
   "cell_type": "markdown",
   "id": "a5a6edbd",
   "metadata": {},
   "source": [
    "### Python Keywords are some predefined and reserved words in Python that have special meanings. Keywords are used to define the syntax of the coding. The keyword cannot be used as an identifier, function, or variable name. All the keywords in Python are written in lowercase except True and False"
   ]
  },
  {
   "cell_type": "code",
   "execution_count": 24,
   "id": "3b6c5801",
   "metadata": {},
   "outputs": [],
   "source": [
    "#example - here we used def,if,else\n",
    "def subtract(x,y):\n",
    "    if x>y:\n",
    "        print(f'The answer is {x-y}')\n",
    "    else:\n",
    "        print(\"number is smaller\")"
   ]
  },
  {
   "cell_type": "code",
   "execution_count": 25,
   "id": "81334efb",
   "metadata": {},
   "outputs": [
    {
     "name": "stdout",
     "output_type": "stream",
     "text": [
      "The answer is 10\n"
     ]
    }
   ],
   "source": [
    "subtract(15,5)"
   ]
  },
  {
   "cell_type": "code",
   "execution_count": 26,
   "id": "043d2fb5",
   "metadata": {},
   "outputs": [
    {
     "name": "stdout",
     "output_type": "stream",
     "text": [
      "1\n",
      "2\n",
      "3\n",
      "4\n",
      "5\n",
      "6\n",
      "7\n",
      "8\n",
      "9\n",
      "10\n"
     ]
    }
   ],
   "source": [
    "#example here we used for,in\n",
    "n=10\n",
    "i=1\n",
    "for i in range(1,n+1):\n",
    "    print(i)\n",
    "    i=i+1"
   ]
  },
  {
   "cell_type": "markdown",
   "id": "f1776a4d",
   "metadata": {},
   "source": [
    "# 2. Describe the rules for defining identifiers in Python and provide an example"
   ]
  },
  {
   "cell_type": "markdown",
   "id": "0eb15f4b",
   "metadata": {},
   "source": [
    "### Rules for Naming Python Identifiers\n",
    "* It cannot be a reserved python keyword.\n",
    "* It should not contain white space.\n",
    "* It can be a combination of A-Z, a-z, 0-9, or underscore.\n",
    "* It should start with an alphabet character or an underscore ( _ ).\n",
    "* It should not contain any special character other than an underscore ( _ )."
   ]
  },
  {
   "cell_type": "code",
   "execution_count": 27,
   "id": "d6b5eed3",
   "metadata": {},
   "outputs": [],
   "source": [
    "# example identifiers:\n",
    "\n",
    "var1=1\n",
    "_var1=4\n",
    "_1_var=5\n",
    "var_1=7"
   ]
  },
  {
   "cell_type": "markdown",
   "id": "fb3bb81a",
   "metadata": {},
   "source": [
    "# 3. What are comments in Python, and why are they useful? Provide an example"
   ]
  },
  {
   "cell_type": "markdown",
   "id": "ad32f72f",
   "metadata": {},
   "source": [
    "###  * Comment starts with a #, and Python will ignore them. It can be used to explain Python code.\n",
    "###  * Comments can be used to make the code more readable and to prevent execution when testing code."
   ]
  },
  {
   "cell_type": "code",
   "execution_count": 28,
   "id": "e55d1a9b",
   "metadata": {},
   "outputs": [
    {
     "name": "stdout",
     "output_type": "stream",
     "text": [
      "5\n"
     ]
    }
   ],
   "source": [
    "#This is comment in python\n",
    "a=4\n",
    "b=1\n",
    "add=a+b\n",
    "print(add)"
   ]
  },
  {
   "cell_type": "markdown",
   "id": "8e6f6a96",
   "metadata": {},
   "source": [
    "# 4. Why is proper indentation important in Python?"
   ]
  },
  {
   "cell_type": "markdown",
   "id": "95011d5d",
   "metadata": {},
   "source": [
    "### Indentation is crucial for the interpreter to understand the logical structure of the code. Its primary purpose in Python is to define the scope of statements, such as those within loops, conditionals, functions, and classes. "
   ]
  },
  {
   "cell_type": "markdown",
   "id": "efb86c42",
   "metadata": {},
   "source": [
    "# 5. What happens if indentation is incorrect in Python?"
   ]
  },
  {
   "cell_type": "markdown",
   "id": "bc7f6a22",
   "metadata": {},
   "source": [
    "### * Readability Issues: Incorrect indentation can make the code harder to understand for other programmers, including ourself in the future. It can also make debugging more challenging since the visual cues provided by proper indentation are lost.\n",
    "### * Logical Errors: Incorrect indentation can cause statements to be executed in unintended scopes or to be skipped entirely, leading to unexpected behavior in the program.\n",
    "### * Syntax Errors: Python interpreter relies on indentation to understand the block structure of the code. If the indentation is incorrect, the interpreter may raise syntax errors, indicating that the code does not confirm to Python's syntax rules. These errors typically manifest as \"IndentationError\" or \"Unexpected indent\" messages."
   ]
  },
  {
   "cell_type": "markdown",
   "id": "de996f0f",
   "metadata": {},
   "source": [
    "# 6. Differentiate between expression and statement in Python with examples"
   ]
  },
  {
   "cell_type": "markdown",
   "id": "d7b7ae99",
   "metadata": {},
   "source": [
    "### Expressions: An expression is a combination of values, variables, operators, and function calls that evaluates to a single value. In simpler terms, an expression is anything that can be evaluated to produce a result."
   ]
  },
  {
   "cell_type": "code",
   "execution_count": 34,
   "id": "156a20f1",
   "metadata": {},
   "outputs": [
    {
     "data": {
      "text/plain": [
       "28"
      ]
     },
     "execution_count": 34,
     "metadata": {},
     "output_type": "execute_result"
    }
   ],
   "source": [
    "# This is an expression evaluating to 28\n",
    "result = 7 + 3 * 7 \n",
    "result"
   ]
  },
  {
   "cell_type": "markdown",
   "id": "53eb7d06",
   "metadata": {},
   "source": [
    "### Statements: A statement is a unit of code that performs an action or makes something happen. Statements are typically instructions that the Python interpreter can execute."
   ]
  },
  {
   "cell_type": "code",
   "execution_count": 35,
   "id": "0843b5b5",
   "metadata": {},
   "outputs": [],
   "source": [
    "# This is an assignment statement, assigning the value 1 to the variable x\n",
    "x = 1"
   ]
  },
  {
   "cell_type": "code",
   "execution_count": 36,
   "id": "d5757dcc",
   "metadata": {},
   "outputs": [
    {
     "name": "stdout",
     "output_type": "stream",
     "text": [
      "x is not greater than 7\n"
     ]
    }
   ],
   "source": [
    "# Conditional Statement (if-else):\n",
    "if x > 7:\n",
    "    print(\"x is greater than 7\")\n",
    "else:\n",
    "    print(\"x is not greater than 7\")"
   ]
  },
  {
   "cell_type": "code",
   "execution_count": null,
   "id": "ead1977a",
   "metadata": {},
   "outputs": [],
   "source": []
  }
 ],
 "metadata": {
  "kernelspec": {
   "display_name": "Python 3 (ipykernel)",
   "language": "python",
   "name": "python3"
  },
  "language_info": {
   "codemirror_mode": {
    "name": "ipython",
    "version": 3
   },
   "file_extension": ".py",
   "mimetype": "text/x-python",
   "name": "python",
   "nbconvert_exporter": "python",
   "pygments_lexer": "ipython3",
   "version": "3.9.13"
  }
 },
 "nbformat": 4,
 "nbformat_minor": 5
}
